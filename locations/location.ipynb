{
 "cells": [
  {
   "cell_type": "code",
   "execution_count": 2,
   "metadata": {},
   "outputs": [],
   "source": [
    "import os, json, codecs\n",
    "import pandas as pd\n",
    "import re\n",
    "\n",
    "with open(\"data/raw_database.json\", 'r', encoding='utf-8') as file:\n",
    "    locations = json.load(file)  # อ่านข้อมูล JSON และแปลงเป็น object ใน Python\n",
    "\n",
    "# map\n",
    "def map_function(item):    \n",
    "    return  {\n",
    "        \"district\": item[\"district\"],\n",
    "        \"amphoe\": item[\"amphoe\"],\n",
    "        \"province\": item[\"province\"],\n",
    "    }\n",
    "\n",
    "# อาจได้ผลลัพธ์ที่มี None\n",
    "data = list(map(map_function, locations))\n",
    "\n",
    "\n",
    "with codecs.open(\"data/provinces.json\", 'w', encoding='utf-8') as f:\n",
    "    json.dump(data, f, ensure_ascii=False)"
   ]
  },
  {
   "cell_type": "code",
   "execution_count": 4,
   "metadata": {},
   "outputs": [
    {
     "name": "stdout",
     "output_type": "stream",
     "text": [
      "CSV file 'data/provinces.csv' has been converted to JSON file 'data/provinces.json'\n"
     ]
    }
   ],
   "source": [
    "import pandas as pd\n",
    "\n",
    "# อ่านไฟล์ CSV\n",
    "csv_file = \"data/provinces.csv\"\n",
    "df = pd.read_csv(csv_file)\n",
    "\n",
    "# แปลง DataFrame เป็น JSON\n",
    "json_file = \"data/provinces.json\"\n",
    "df.to_json(json_file, orient=\"records\", lines=False, force_ascii=False, indent=4)\n",
    "\n",
    "print(f\"CSV file '{csv_file}' has been converted to JSON file '{json_file}'\")\n"
   ]
  }
 ],
 "metadata": {
  "kernelspec": {
   "display_name": "promhod-env",
   "language": "python",
   "name": "python3"
  },
  "language_info": {
   "codemirror_mode": {
    "name": "ipython",
    "version": 3
   },
   "file_extension": ".py",
   "mimetype": "text/x-python",
   "name": "python",
   "nbconvert_exporter": "python",
   "pygments_lexer": "ipython3",
   "version": "3.9.7"
  }
 },
 "nbformat": 4,
 "nbformat_minor": 2
}
