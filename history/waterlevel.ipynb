{
 "cells": [
  {
   "cell_type": "code",
   "execution_count": 9,
   "metadata": {},
   "outputs": [
    {
     "name": "stdout",
     "output_type": "stream",
     "text": [
      "Write file data/stations.json\n"
     ]
    }
   ],
   "source": [
    "import json,codecs\n",
    "import urllib.request\n",
    "import urllib.parse\n",
    "\n",
    "def getWL(province_name, amphoe_names):\n",
    "    url = \"https://api-v3.thaiwater.net/api/v1/thaiwater30/public/waterlevel_load\"\n",
    "    with urllib.request.urlopen(url) as response:\n",
    "        data = json.loads(response.read())\n",
    "    data = data[\"waterlevel_data\"][\"data\"]\n",
    "    # data\n",
    "    print(len(data))\n",
    "    def locationFilter(item):\n",
    "        # print(item)\n",
    "        # return (item[\"geocode\"][\"amphoe_name\"][\"th\"] in amphoe_names) and (item[\"geocode\"][\"province_name\"][\"th\"] == province_name )\n",
    "        return (item[\"geocode\"][\"province_name\"][\"th\"] == province_name )\n",
    "\n",
    "    filterData = filter(locationFilter,data)\n",
    "    filterData = list(filterData)\n",
    "    print(len(filterData))\n",
    "    return filterData\n",
    "\n",
    "def getStations(province_name, amphoe_names):\n",
    "    url = \"https://api-v3.thaiwater.net/api/v1/thaiwater30/public/waterlevel_load\"\n",
    "    with urllib.request.urlopen(url) as response:\n",
    "        data = json.loads(response.read())\n",
    "    data = data[\"waterlevel_data\"][\"data\"]\n",
    "    # data\n",
    "    # print(len(data))\n",
    "    def filterWLFn(item):\n",
    "        # print(item)\n",
    "        # return (item[\"geocode\"][\"amphoe_name\"][\"th\"] in amphoe_names) and (item[\"geocode\"][\"province_name\"][\"th\"] == province_name )\n",
    "        return (item[\"geocode\"][\"province_name\"][\"th\"] == province_name )\n",
    "\n",
    "    filterWL = filter(filterWLFn,data)\n",
    "    filterWL = list(filterWL)\n",
    "    # print(len(filterData))\n",
    "\n",
    "\n",
    "    def mapStationsFn(item):\n",
    "        return {\n",
    "            \"id\":item[\"station\"][\"id\"],\n",
    "            \"tele_station_name\":item[\"station\"][\"tele_station_name\"][\"th\"],\n",
    "            \"tele_station_lat\":item[\"station\"][\"tele_station_lat\"],\n",
    "            \"tele_station_long\":item[\"station\"][\"tele_station_long\"],\n",
    "            \"is_key_station\":item[\"station\"][\"is_key_station\"],\n",
    "            \"tumbon_name\":item[\"geocode\"][\"tumbon_name\"][\"th\"],\n",
    "            \"amphoe_name\":item[\"geocode\"][\"amphoe_name\"][\"th\"],\n",
    "            \"province_name\":item[\"geocode\"][\"province_name\"][\"th\"],\n",
    "            \"river_name\":item[\"river_name\"],\n",
    "        }\n",
    "    \n",
    "    stations = list(map(mapStationsFn, filterWL))\n",
    "\n",
    "\n",
    "    return stations\n",
    "\n",
    "if __name__ == \"__main__\":\n",
    "    wl = getStations(province_name=\"สระแก้ว\", amphoe_names=[\"คลองหาด\",\"วัฒนานคร\",\"อรัญประเทศ\"])\n",
    "    with codecs.open('data/stations.json', 'w', encoding='utf-8') as f:\n",
    "        json.dump(wl, f, ensure_ascii=False)\n",
    "        print(\"Write file data/stations.json\")\n",
    "\n"
   ]
  },
  {
   "cell_type": "code",
   "execution_count": 2,
   "metadata": {},
   "outputs": [
    {
     "name": "stdout",
     "output_type": "stream",
     "text": [
      "192\n",
      "https://api-v3.thaiwater.net/api/v1/thaiwater30/public/waterlevel_graph_year?station_type=tele_waterlevel&station_id=192&year=2020,2021,2022,2023,2024\n",
      "Write file data/station-192-[2020-2024].json\n",
      "191\n",
      "https://api-v3.thaiwater.net/api/v1/thaiwater30/public/waterlevel_graph_year?station_type=tele_waterlevel&station_id=191&year=2020,2021,2022,2023,2024\n",
      "Write file data/station-191-[2020-2024].json\n",
      "2677\n",
      "https://api-v3.thaiwater.net/api/v1/thaiwater30/public/waterlevel_graph_year?station_type=tele_waterlevel&station_id=2677&year=2020,2021,2022,2023,2024\n",
      "Write file data/station-2677-[2020-2024].json\n",
      "2675\n",
      "https://api-v3.thaiwater.net/api/v1/thaiwater30/public/waterlevel_graph_year?station_type=tele_waterlevel&station_id=2675&year=2020,2021,2022,2023,2024\n",
      "Write file data/station-2675-[2020-2024].json\n",
      "1098950\n",
      "https://api-v3.thaiwater.net/api/v1/thaiwater30/public/waterlevel_graph_year?station_type=tele_waterlevel&station_id=1098950&year=2020,2021,2022,2023,2024\n",
      "Write file data/station-1098950-[2020-2024].json\n",
      "200\n",
      "https://api-v3.thaiwater.net/api/v1/thaiwater30/public/waterlevel_graph_year?station_type=tele_waterlevel&station_id=200&year=2020,2021,2022,2023,2024\n",
      "Write file data/station-200-[2020-2024].json\n",
      "190\n",
      "https://api-v3.thaiwater.net/api/v1/thaiwater30/public/waterlevel_graph_year?station_type=tele_waterlevel&station_id=190&year=2020,2021,2022,2023,2024\n",
      "Write file data/station-190-[2020-2024].json\n"
     ]
    }
   ],
   "source": [
    "import json,codecs\n",
    "import urllib.request\n",
    "import urllib.parse\n",
    "\n",
    "# อ่านไฟล์ JSON\n",
    "file_path = 'data/stations.json'\n",
    "\n",
    "with open(file_path, 'r', encoding='utf-8') as file:\n",
    "    stations = json.load(file)  # อ่านข้อมูล JSON และแปลงเป็น object ใน Python\n",
    "\n",
    "for station in stations:\n",
    "    station_id=station[\"id\"]\n",
    "    print(station_id)\n",
    "    start_date=\"2020-01-01\"\n",
    "    end_date=\"2025-01-01\"\n",
    "    url = f\"https://api-v3.thaiwater.net/api/v1/thaiwater30/public/waterlevel_graph_year?station_type=tele_waterlevel&station_id={station_id}&year=2020,2021,2022,2023,2024\"\n",
    "    # url = f\"https://api-v3.thaiwater.net/api/v1/thaiwater30/public/waterlevel_graph?station_type=tele_waterlevel&station_id={station_id}&start_date={start_date}&end_date={end_date}\"\n",
    "    with urllib.request.urlopen(url) as response:\n",
    "        data = json.loads(response.read())\n",
    "    data[\"station\"] = station\n",
    "    print(url)\n",
    "    with codecs.open(f\"data/station-{station_id}-[2020-2024].json\", 'w', encoding='utf-8') as f:\n",
    "        json.dump(data, f, ensure_ascii=False)\n",
    "        print(f\"Write file data/station-{station_id}-[2020-2024].json\")\n",
    "\n"
   ]
  }
 ],
 "metadata": {
  "kernelspec": {
   "display_name": "promhod-env",
   "language": "python",
   "name": "python3"
  },
  "language_info": {
   "codemirror_mode": {
    "name": "ipython",
    "version": 3
   },
   "file_extension": ".py",
   "mimetype": "text/x-python",
   "name": "python",
   "nbconvert_exporter": "python",
   "pygments_lexer": "ipython3",
   "version": "3.9.7"
  }
 },
 "nbformat": 4,
 "nbformat_minor": 2
}
