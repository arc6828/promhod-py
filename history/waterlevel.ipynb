{
 "cells": [
  {
   "cell_type": "code",
   "execution_count": 9,
   "metadata": {},
   "outputs": [
    {
     "name": "stdout",
     "output_type": "stream",
     "text": [
      "Write file data/stations.json\n"
     ]
    }
   ],
   "source": [
    "import json,codecs\n",
    "import urllib.request\n",
    "import urllib.parse\n",
    "\n",
    "def getWL(province_name, amphoe_names):\n",
    "    url = \"https://api-v3.thaiwater.net/api/v1/thaiwater30/public/waterlevel_load\"\n",
    "    with urllib.request.urlopen(url) as response:\n",
    "        data = json.loads(response.read())\n",
    "    data = data[\"waterlevel_data\"][\"data\"]\n",
    "    # data\n",
    "    print(len(data))\n",
    "    def locationFilter(item):\n",
    "        # print(item)\n",
    "        # return (item[\"geocode\"][\"amphoe_name\"][\"th\"] in amphoe_names) and (item[\"geocode\"][\"province_name\"][\"th\"] == province_name )\n",
    "        return (item[\"geocode\"][\"province_name\"][\"th\"] == province_name )\n",
    "\n",
    "    filterData = filter(locationFilter,data)\n",
    "    filterData = list(filterData)\n",
    "    print(len(filterData))\n",
    "    return filterData\n",
    "\n",
    "def getStations(province_name, amphoe_names):\n",
    "    url = \"https://api-v3.thaiwater.net/api/v1/thaiwater30/public/waterlevel_load\"\n",
    "    with urllib.request.urlopen(url) as response:\n",
    "        data = json.loads(response.read())\n",
    "    data = data[\"waterlevel_data\"][\"data\"]\n",
    "    # data\n",
    "    # print(len(data))\n",
    "    def filterWLFn(item):\n",
    "        # print(item)\n",
    "        # return (item[\"geocode\"][\"amphoe_name\"][\"th\"] in amphoe_names) and (item[\"geocode\"][\"province_name\"][\"th\"] == province_name )\n",
    "        return (item[\"geocode\"][\"province_name\"][\"th\"] == province_name )\n",
    "\n",
    "    filterWL = filter(filterWLFn,data)\n",
    "    filterWL = list(filterWL)\n",
    "    # print(len(filterData))\n",
    "\n",
    "\n",
    "    def mapStationsFn(item):\n",
    "        return {\n",
    "            \"id\":item[\"station\"][\"id\"],\n",
    "            \"tele_station_name\":item[\"station\"][\"tele_station_name\"][\"th\"],\n",
    "            \"tele_station_lat\":item[\"station\"][\"tele_station_lat\"],\n",
    "            \"tele_station_long\":item[\"station\"][\"tele_station_long\"],\n",
    "            \"is_key_station\":item[\"station\"][\"is_key_station\"],\n",
    "            \"tumbon_name\":item[\"geocode\"][\"tumbon_name\"][\"th\"],\n",
    "            \"amphoe_name\":item[\"geocode\"][\"amphoe_name\"][\"th\"],\n",
    "            \"province_name\":item[\"geocode\"][\"province_name\"][\"th\"],\n",
    "            \"river_name\":item[\"river_name\"],\n",
    "        }\n",
    "    \n",
    "    stations = list(map(mapStationsFn, filterWL))\n",
    "\n",
    "\n",
    "    return stations\n",
    "\n",
    "if __name__ == \"__main__\":\n",
    "    wl = getStations(province_name=\"สระแก้ว\", amphoe_names=[\"คลองหาด\",\"วัฒนานคร\",\"อรัญประเทศ\"])\n",
    "    with codecs.open('data/stations.json', 'w', encoding='utf-8') as f:\n",
    "        json.dump(wl, f, ensure_ascii=False)\n",
    "        print(\"Write file data/stations.json\")\n",
    "\n"
   ]
  },
  {
   "cell_type": "code",
   "execution_count": 9,
   "metadata": {},
   "outputs": [
    {
     "data": {
      "text/plain": [
       "'2015,2016,2017,2018,2019,2020,2021,2022,2023,2024'"
      ]
     },
     "execution_count": 9,
     "metadata": {},
     "output_type": "execute_result"
    }
   ],
   "source": [
    "target_years = list(range(2015,2025))\n",
    "target_years = \",\".join(map(str, target_years))\n",
    "target_years"
   ]
  },
  {
   "cell_type": "code",
   "execution_count": 10,
   "metadata": {},
   "outputs": [
    {
     "name": "stdout",
     "output_type": "stream",
     "text": [
      "192\n",
      "https://api-v3.thaiwater.net/api/v1/thaiwater30/public/waterlevel_graph_year?station_type=tele_waterlevel&station_id=192&year=2015,2016,2017,2018,2019,2020,2021,2022,2023,2024\n",
      "Write file data/station-192-[2015-2024].json\n",
      "191\n",
      "https://api-v3.thaiwater.net/api/v1/thaiwater30/public/waterlevel_graph_year?station_type=tele_waterlevel&station_id=191&year=2015,2016,2017,2018,2019,2020,2021,2022,2023,2024\n",
      "Write file data/station-191-[2015-2024].json\n",
      "2677\n",
      "https://api-v3.thaiwater.net/api/v1/thaiwater30/public/waterlevel_graph_year?station_type=tele_waterlevel&station_id=2677&year=2015,2016,2017,2018,2019,2020,2021,2022,2023,2024\n",
      "Write file data/station-2677-[2015-2024].json\n",
      "2675\n",
      "https://api-v3.thaiwater.net/api/v1/thaiwater30/public/waterlevel_graph_year?station_type=tele_waterlevel&station_id=2675&year=2015,2016,2017,2018,2019,2020,2021,2022,2023,2024\n",
      "Write file data/station-2675-[2015-2024].json\n",
      "1098950\n",
      "https://api-v3.thaiwater.net/api/v1/thaiwater30/public/waterlevel_graph_year?station_type=tele_waterlevel&station_id=1098950&year=2015,2016,2017,2018,2019,2020,2021,2022,2023,2024\n",
      "Write file data/station-1098950-[2015-2024].json\n",
      "200\n",
      "https://api-v3.thaiwater.net/api/v1/thaiwater30/public/waterlevel_graph_year?station_type=tele_waterlevel&station_id=200&year=2015,2016,2017,2018,2019,2020,2021,2022,2023,2024\n",
      "Write file data/station-200-[2015-2024].json\n",
      "190\n",
      "https://api-v3.thaiwater.net/api/v1/thaiwater30/public/waterlevel_graph_year?station_type=tele_waterlevel&station_id=190&year=2015,2016,2017,2018,2019,2020,2021,2022,2023,2024\n",
      "Write file data/station-190-[2015-2024].json\n"
     ]
    }
   ],
   "source": [
    "import json,codecs\n",
    "import urllib.request\n",
    "import urllib.parse\n",
    "\n",
    "# อ่านไฟล์ JSON\n",
    "file_path = 'data/stations.json'\n",
    "\n",
    "with open(file_path, 'r', encoding='utf-8') as file:\n",
    "    stations = json.load(file)  # อ่านข้อมูล JSON และแปลงเป็น object ใน Python\n",
    "\n",
    "target_years = list(range(2015,2025))\n",
    "target_years = \",\".join(map(str, target_years))\n",
    "\n",
    "for station in stations:\n",
    "    station_id=station[\"id\"]\n",
    "    print(station_id)\n",
    "    url = f\"https://api-v3.thaiwater.net/api/v1/thaiwater30/public/waterlevel_graph_year?station_type=tele_waterlevel&station_id={station_id}&year={target_years}\"\n",
    "    with urllib.request.urlopen(url) as response:\n",
    "        data = json.loads(response.read())\n",
    "    data[\"station\"] = station\n",
    "    print(url)\n",
    "    with codecs.open(f\"data/station-{station_id}-[2015-2024].json\", 'w', encoding='utf-8') as f:\n",
    "        json.dump(data, f, ensure_ascii=False)\n",
    "        print(f\"Write file data/station-{station_id}-[2015-2024].json\")\n",
    "\n"
   ]
  },
  {
   "cell_type": "code",
   "execution_count": 11,
   "metadata": {},
   "outputs": [
    {
     "name": "stdout",
     "output_type": "stream",
     "text": [
      "print excel all stations\n",
      "print excel station\n",
      "ตาพระยา\n",
      "print excel station\n",
      "เมืองสระแก้ว\n"
     ]
    },
    {
     "name": "stderr",
     "output_type": "stream",
     "text": [
      "C:\\Users\\User\\AppData\\Local\\Temp\\ipykernel_3136\\1809660437.py:46: FutureWarning: The behavior of DataFrame concatenation with empty or all-NA entries is deprecated. In a future version, this will no longer exclude empty or all-NA columns when determining the result dtypes. To retain the old behavior, exclude the relevant entries before the concat operation.\n",
      "  big_df = pd.concat([big_df, df], ignore_index=True)\n"
     ]
    },
    {
     "name": "stdout",
     "output_type": "stream",
     "text": [
      "print excel station\n",
      "บ้านสระขวัญ\n",
      "print excel station\n",
      "บ้านเขาฉกรรจ์\n",
      "print excel station\n",
      "บ้านแก้ง\n"
     ]
    },
    {
     "name": "stderr",
     "output_type": "stream",
     "text": [
      "C:\\Users\\User\\AppData\\Local\\Temp\\ipykernel_3136\\1809660437.py:46: FutureWarning: The behavior of DataFrame concatenation with empty or all-NA entries is deprecated. In a future version, this will no longer exclude empty or all-NA columns when determining the result dtypes. To retain the old behavior, exclude the relevant entries before the concat operation.\n",
      "  big_df = pd.concat([big_df, df], ignore_index=True)\n"
     ]
    },
    {
     "name": "stdout",
     "output_type": "stream",
     "text": [
      "print excel station\n",
      "คลองพรหมโหด\n"
     ]
    },
    {
     "name": "stderr",
     "output_type": "stream",
     "text": [
      "C:\\Users\\User\\AppData\\Local\\Temp\\ipykernel_3136\\1809660437.py:46: FutureWarning: The behavior of DataFrame concatenation with empty or all-NA entries is deprecated. In a future version, this will no longer exclude empty or all-NA columns when determining the result dtypes. To retain the old behavior, exclude the relevant entries before the concat operation.\n",
      "  big_df = pd.concat([big_df, df], ignore_index=True)\n"
     ]
    },
    {
     "name": "stdout",
     "output_type": "stream",
     "text": [
      "print excel station\n",
      "คลองพระปรง\n",
      "print big excel\n"
     ]
    }
   ],
   "source": [
    "import json,codecs\n",
    "import urllib.request\n",
    "import urllib.parse\n",
    "import pandas as pd\n",
    "\n",
    "# อ่านไฟล์ JSON\n",
    "file_path = 'data/stations.json'\n",
    "\n",
    "with open(file_path, 'r', encoding='utf-8') as file:\n",
    "    stations = json.load(file)  # อ่านข้อมูล JSON และแปลงเป็น object ใน Python\n",
    "\n",
    "df = pd.DataFrame(stations)\n",
    "df.to_excel(f\"data/stations.xlsx\", index=False)  # บันทึกเป็น Excel\n",
    "print(\"print excel all stations\")\n",
    "# exit()\n",
    "\n",
    "big_df = None\n",
    "for station in stations:\n",
    "    station_id=station[\"id\"]\n",
    "    file_path = f\"data/station-{station_id}-[2015-2024].json\"\n",
    "    with open(file_path, 'r', encoding='utf-8') as file:\n",
    "        obj = json.load(file)  # อ่านข้อมูล JSON และแปลงเป็น object ใน Python\n",
    "\n",
    "    # merge data in 5 years\n",
    "    data = []\n",
    "    for year_obj in obj[\"data\"][\"graph_data\"]:\n",
    "        data += year_obj[\"data\"]          \n",
    "\n",
    "    df = pd.DataFrame(data)\n",
    "\n",
    "    # เพิ่มคอลัมน์ใหม่ด้วยค่าคงที่\n",
    "    df[\"station_id\"] = station[\"id\"]  # เพิ่มคอลัมน์\n",
    "    df[\"tele_station_name\"] = station[\"tele_station_name\"]  # เพิ่มคอลัมน์\n",
    "    df[\"tele_station_lat\"] = station[\"tele_station_lat\"]  # เพิ่มคอลัมน์\n",
    "    df[\"tele_station_long\"] = station[\"tele_station_long\"]  # เพิ่มคอลัมน์\n",
    "    df[\"is_key_station\"] = station[\"is_key_station\"]  # เพิ่มคอลัมน์\n",
    "    df[\"province_name\"] = station[\"province_name\"]  # เพิ่มคอลัมน์\n",
    "    df[\"amphoe_name\"] = station[\"amphoe_name\"]  # เพิ่มคอลัมน์\n",
    "    df[\"tumbon_name\"] = station[\"tumbon_name\"]  # เพิ่มคอลัมน์\n",
    "    df[\"river_name\"] = station[\"river_name\"]  # เพิ่มคอลัมน์\n",
    "\n",
    "    if big_df is None:\n",
    "        big_df = df\n",
    "    else:\n",
    "        # ใช้ pd.concat() เพื่อเพิ่มข้อมูล\n",
    "        big_df = pd.concat([big_df, df], ignore_index=True)\n",
    "\n",
    "    df.to_excel(f\"data/station-{station_id}.xlsx\", index=False)  # บันทึกเป็น Excel\n",
    "    print(\"print excel station\")\n",
    "\n",
    "    print(station[\"tele_station_name\"])\n",
    "\n",
    "big_df.to_excel(\"data/output-10y-[2015-2024].xlsx\", index=False)  # บันทึกเป็น Excel\n",
    "print(\"print big excel\")"
   ]
  }
 ],
 "metadata": {
  "kernelspec": {
   "display_name": "promhod-env",
   "language": "python",
   "name": "python3"
  },
  "language_info": {
   "codemirror_mode": {
    "name": "ipython",
    "version": 3
   },
   "file_extension": ".py",
   "mimetype": "text/x-python",
   "name": "python",
   "nbconvert_exporter": "python",
   "pygments_lexer": "ipython3",
   "version": "3.9.7"
  }
 },
 "nbformat": 4,
 "nbformat_minor": 2
}
