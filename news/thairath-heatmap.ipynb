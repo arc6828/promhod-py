{
 "cells": [
  {
   "cell_type": "code",
   "execution_count": 6,
   "metadata": {},
   "outputs": [
    {
     "name": "stdout",
     "output_type": "stream",
     "text": [
      "         province   latitude   longitude  events\n",
      "0   กรุงเทพมหานคร  13.756539  100.555091       8\n",
      "1          กระบี่   8.014196   98.933196       1\n",
      "2       กาฬสินธุ์  16.589940  103.613395       2\n",
      "3         ขอนแก่น  16.354786  102.597114       4\n",
      "4        จันทบุรี  12.683440  102.114321       1\n",
      "..            ...        ...         ...     ...\n",
      "64        อ่างทอง  14.613110  100.382438      20\n",
      "65       อุดรธานี  17.407981  102.887755       6\n",
      "66      อุตรดิตถ์  17.639478  100.327030       2\n",
      "67      อุทัยธานี  15.371043   99.792609      11\n",
      "68    อุบลราชธานี  15.274664  105.023414       6\n",
      "\n",
      "[69 rows x 4 columns]\n",
      "Heatmap saved as 'thailand_heatmap.html'\n"
     ]
    }
   ],
   "source": [
    "import os, json\n",
    "import pandas as pd\n",
    "import re\n",
    "from pythainlp.util import thai_strptime\n",
    "from datetime import datetime\n",
    "import copy\n",
    "\n",
    "with open(\"data/provinces.json\", 'r', encoding='utf-8') as file:\n",
    "    data = json.load(file)  # อ่านข้อมูล JSON และแปลงเป็น object ใน Python\n",
    "\n",
    "for p in data:\n",
    "    p[\"events\"] = 0 \n",
    "\n",
    "with open(\"data/analysis.json\", 'r', encoding='utf-8') as file:\n",
    "    analysis = json.load(file)  # อ่านข้อมูล JSON และแปลงเป็น object ใน Python\n",
    "\n",
    "data_detail = []\n",
    "# SCORE EVENT\n",
    "for a in analysis:\n",
    "    ps = a[\"province\"].split(\" | \")\n",
    "    for p in ps:\n",
    "        for d in data:\n",
    "            if d[\"province\"] == p:\n",
    "                new_d = copy.deepcopy(d)\n",
    "                new_d[\"ISO8601\"] = a[\"ISO8601\"]\n",
    "                new_d.pop(\"latitude\", None)\n",
    "                new_d.pop(\"longitude\", None)\n",
    "                new_d.pop(\"events\", None)\n",
    "                new_d[\"id\"] = a[\"id\"]\n",
    "                new_d[\"title\"] = a[\"title\"]\n",
    "                data_detail.append(new_d)\n",
    "                d[\"events\"] += 1\n",
    "        \n",
    "# FILTER EVENTS ZERO\n",
    "data = [x for x in data if x[\"events\"] > 0]\n",
    "\n",
    "# โหลดข้อมูลเป็น DataFrame\n",
    "df = pd.DataFrame(data)\n",
    "df2 = pd.DataFrame(data_detail)\n",
    "\n",
    "print(df)\n",
    "\n",
    "import folium\n",
    "from folium.plugins import HeatMap\n",
    "\n",
    "# สร้างแผนที่เริ่มต้น\n",
    "m = folium.Map(location=[13.7563, 100.5018], zoom_start=6)\n",
    "\n",
    "# เตรียมข้อมูลสำหรับ Heatmap\n",
    "heat_data = [[row[\"latitude\"], row[\"longitude\"], row[\"events\"]] for index, row in df.iterrows()]\n",
    "\n",
    "# เพิ่ม Heatmap ลงในแผนที่\n",
    "HeatMap(heat_data, max_zoom=12).add_to(m)\n",
    "\n",
    "# แสดงแผนที่\n",
    "m.save(\"thailand_heatmap.html\")\n",
    "print(\"Heatmap saved as 'thailand_heatmap.html'\")\n",
    "\n",
    "filename = \"data/heatmap.xlsx\"\n",
    "df.to_excel(filename, index=False)  # บันทึกเป็น Excel\n",
    "\n",
    "filename = \"data/analysis-detail.xlsx\"\n",
    "df2.to_excel(filename, index=False)  # บันทึกเป็น Excel"
   ]
  }
 ],
 "metadata": {
  "kernelspec": {
   "display_name": "promhod-env",
   "language": "python",
   "name": "python3"
  },
  "language_info": {
   "codemirror_mode": {
    "name": "ipython",
    "version": 3
   },
   "file_extension": ".py",
   "mimetype": "text/x-python",
   "name": "python",
   "nbconvert_exporter": "python",
   "pygments_lexer": "ipython3",
   "version": "3.12.3"
  }
 },
 "nbformat": 4,
 "nbformat_minor": 2
}
