{
 "cells": [
  {
   "cell_type": "code",
   "execution_count": 21,
   "metadata": {},
   "outputs": [
    {
     "name": "stdout",
     "output_type": "stream",
     "text": [
      "Cropped image saved to: data/heatmap/h4-cropped.png\n",
      "550 30 1050 830\n"
     ]
    }
   ],
   "source": [
    "from PIL import Image\n",
    "\n",
    "def crop_center(image_path, output_path, crop_width, crop_height):\n",
    "    # เปิดรูปภาพ\n",
    "    img = Image.open(image_path)\n",
    "    \n",
    "    # ขนาดของรูปภาพเดิม\n",
    "    width, height = img.size\n",
    "    \n",
    "    # คำนวณตำแหน่งของจุดเริ่มต้นและสิ้นสุดการครอบ\n",
    "    left = (width - crop_width) // 2\n",
    "    top = (height - crop_height) // 2\n",
    "    right = left + crop_width\n",
    "    bottom = top + crop_height\n",
    "    \n",
    "    # ครอบรูปภาพ\n",
    "    cropped_img = img.crop((left+90, top+100, right, bottom))\n",
    "    \n",
    "    # บันทึกรูปภาพที่ครอบแล้ว\n",
    "    cropped_img.save(output_path)\n",
    "    print(f\"Cropped image saved to: {output_path}\")\n",
    "    print(left,top,right,bottom)\n",
    "\n",
    "# ตัวอย่างการใช้งาน\n",
    "image_path = \"data/heatmap/h4.png\"   # ไฟล์ต้นฉบับ\n",
    "output_path = \"data/heatmap/h4-cropped.png\" # ไฟล์ผลลัพธ์\n",
    "crop_width = 500            # ความกว้างที่ต้องการ\n",
    "crop_height = 800           # ความสูงที่ต้องการ\n",
    "\n",
    "crop_center(image_path, output_path, crop_width, crop_height)\n"
   ]
  }
 ],
 "metadata": {
  "kernelspec": {
   "display_name": "promhod-env",
   "language": "python",
   "name": "python3"
  },
  "language_info": {
   "codemirror_mode": {
    "name": "ipython",
    "version": 3
   },
   "file_extension": ".py",
   "mimetype": "text/x-python",
   "name": "python",
   "nbconvert_exporter": "python",
   "pygments_lexer": "ipython3",
   "version": "3.9.7"
  }
 },
 "nbformat": 4,
 "nbformat_minor": 2
}
