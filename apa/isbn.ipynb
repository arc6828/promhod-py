{
 "cells": [
  {
   "cell_type": "code",
   "execution_count": 2,
   "metadata": {},
   "outputs": [
    {
     "name": "stdout",
     "output_type": "stream",
     "text": [
      "https://www.googleapis.com/books/v1/volumes?q=isbn:9780132350884\n",
      "Robert C. Martin (2009). *Clean Code*. Pearson Education.\n"
     ]
    }
   ],
   "source": [
    "import requests\n",
    "\n",
    "def get_book_details(isbn):\n",
    "    # Google Books API URL\n",
    "    url = f\"https://www.googleapis.com/books/v1/volumes?q=isbn:{isbn}\"\n",
    "    response = requests.get(url)\n",
    "    print(url)\n",
    "    \n",
    "    if response.status_code == 200:\n",
    "        data = response.json()\n",
    "        if \"items\" in data:\n",
    "            book = data[\"items\"][0][\"volumeInfo\"]\n",
    "            authors = \", \".join(book.get(\"authors\", [\"Unknown Author\"]))\n",
    "            title = book.get(\"title\", \"Unknown Title\")\n",
    "            year = book.get(\"publishedDate\", \"n.d.\").split(\"-\")[0]  # Extract year\n",
    "            publisher = book.get(\"publisher\", \"Unknown Publisher\")\n",
    "            \n",
    "            # Format APA citation\n",
    "            apa_citation = f\"{authors} ({year}). *{title}*. {publisher}.\"\n",
    "            return apa_citation\n",
    "        else:\n",
    "            return \"Book not found.\"\n",
    "    else:\n",
    "        return f\"Error: {response.status_code}\"\n",
    "\n",
    "# Example usage\n",
    "isbn = \"9780132350884\"  # Replace with your book's ISBN\n",
    "citation = get_book_details(isbn)\n",
    "print(citation)\n"
   ]
  }
 ],
 "metadata": {
  "kernelspec": {
   "display_name": "promhod-env",
   "language": "python",
   "name": "python3"
  },
  "language_info": {
   "codemirror_mode": {
    "name": "ipython",
    "version": 3
   },
   "file_extension": ".py",
   "mimetype": "text/x-python",
   "name": "python",
   "nbconvert_exporter": "python",
   "pygments_lexer": "ipython3",
   "version": "3.9.7"
  }
 },
 "nbformat": 4,
 "nbformat_minor": 2
}
